{
 "cells": [
  {
   "cell_type": "markdown",
   "metadata": {
    "colab_type": "text",
    "id": "view-in-github",
    "slideshow": {
     "slide_type": "skip"
    }
   },
   "source": [
    "<a href=\"https://colab.research.google.com/github/YanCheng-go/master-git-github/blob/master/master_git_github.ipynb\" target=\"_parent\"><img src=\"https://colab.research.google.com/assets/colab-badge.svg\" alt=\"Open In Colab\"/></a>"
   ]
  },
  {
   "cell_type": "markdown",
   "metadata": {
    "id": "V2HcwehWtZCb",
    "slideshow": {
     "slide_type": "slide"
    }
   },
   "source": [
    "# Master Git and GitHub"
   ]
  },
  {
   "cell_type": "markdown",
   "metadata": {
    "slideshow": {
     "slide_type": "subslide"
    }
   },
   "source": [
    "1. Basics of Git and GitHub \n",
    "2. Set up environment on your local machine\n",
    "3. Git for version control\n",
    "4. Host local projects on GitHub\n",
    "5. Project management and collaborate on GitHub\n",
    "6. Showcase GitHub projects on Colab\n",
    "7. Extra resources for learning Git and GitHub"
   ]
  },
  {
   "cell_type": "markdown",
   "metadata": {
    "id": "IpIh0KW-trs_",
    "slideshow": {
     "slide_type": "slide"
    }
   },
   "source": [
    "## Introduction "
   ]
  },
  {
   "cell_type": "markdown",
   "metadata": {
    "id": "yBDmE0KHt0TB",
    "slideshow": {
     "slide_type": "subslide"
    }
   },
   "source": [
    "### ![git-logo.png](data:image/png;base64,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)\n",
    "\n",
    "[Git](https://git-scm.com/) is a __version control system__ that allows you to manage and keep track on your source code history/projects"
   ]
  },
  {
   "cell_type": "markdown",
   "metadata": {
    "id": "rYr4X04-tyiR",
    "slideshow": {
     "slide_type": "subslide"
    }
   },
   "source": [
    "### ![image.png](data:image/png;base64,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)\n",
    "\n",
    "[GitHub](https://github.com/) is a cloud-based hosting service that lets you mangage git repositories remotely and more!\n"
   ]
  },
  {
   "cell_type": "markdown",
   "metadata": {
    "id": "-hLG5Wf3DlrR",
    "slideshow": {
     "slide_type": "subslide"
    }
   },
   "source": [
    "### Git vs GitHub\n",
    "\n",
    "You can use Git without github, but you cannot use GitHub without Git."
   ]
  },
  {
   "cell_type": "markdown",
   "metadata": {
    "id": "EUJ5zzVEuueW",
    "slideshow": {
     "slide_type": "slide"
    }
   },
   "source": [
    "## Prerequisites\n",
    "\n",
    "- [Download and Install Git](https://git-scm.com/book/en/v2/Getting-Started-Installing-Git)\n",
    "- [Create GitHub account](https://github.com/)"
   ]
  },
  {
   "cell_type": "markdown",
   "metadata": {
    "id": "1t52smxRuFXU",
    "slideshow": {
     "slide_type": "slide"
    }
   },
   "source": [
    "## Get Started with Git"
   ]
  },
  {
   "cell_type": "markdown",
   "metadata": {},
   "source": [
    "1. Initialize local git repository\n",
    "2. Commit changes\n",
    "3. Branches\n",
    "4. Branch manipulation"
   ]
  },
  {
   "cell_type": "markdown",
   "metadata": {
    "id": "lkKVO3pfuFUq",
    "slideshow": {
     "slide_type": "subslide"
    }
   },
   "source": [
    "__1. Create git repository on a local machine__"
   ]
  },
  {
   "cell_type": "code",
   "execution_count": 1,
   "metadata": {
    "slideshow": {
     "slide_type": "fragment"
    }
   },
   "outputs": [],
   "source": [
    "%%bash\n",
    "# Move to existing project folder\n",
    "cd /Users/maverickmiaow/Desktop/master-git-github"
   ]
  },
  {
   "cell_type": "code",
   "execution_count": 3,
   "metadata": {
    "slideshow": {
     "slide_type": "skip"
    }
   },
   "outputs": [],
   "source": [
    "%%bash\n",
    "# Remove git\n",
    "rm -rf .git"
   ]
  },
  {
   "cell_type": "code",
   "execution_count": 4,
   "metadata": {
    "slideshow": {
     "slide_type": "fragment"
    }
   },
   "outputs": [
    {
     "name": "stdout",
     "output_type": "stream",
     "text": [
      "Initialized empty Git repository in /Users/maverickmiaow/Desktop/master-git-github/.git/\n"
     ]
    }
   ],
   "source": [
    "%%bash\n",
    "# Initialize git repository\n",
    "git init"
   ]
  },
  {
   "cell_type": "code",
   "execution_count": 5,
   "metadata": {
    "slideshow": {
     "slide_type": "subslide"
    }
   },
   "outputs": [
    {
     "name": "stdout",
     "output_type": "stream",
     "text": [
      "On branch master\n",
      "\n",
      "No commits yet\n",
      "\n",
      "Untracked files:\n",
      "  (use \"git add <file>...\" to include in what will be committed)\n",
      "\n",
      "\t.idea/\n",
      "\t.ipynb_checkpoints/\n",
      "\tREADME.txt\n",
      "\timg/\n",
      "\tmain.py\n",
      "\tmaster-git-github-slides-v2.ipynb\n",
      "\tmaster-git-github-slides.ipynb\n",
      "\tmaster-git-github-slides.slides.html\n",
      "\tmaster_git_github.ipynb\n",
      "\tmyscript.py\n",
      "\tnotes.md\n",
      "\n",
      "nothing added to commit but untracked files present (use \"git add\" to track)\n"
     ]
    }
   ],
   "source": [
    "%%bash\n",
    "git status"
   ]
  },
  {
   "cell_type": "code",
   "execution_count": 6,
   "metadata": {
    "slideshow": {
     "slide_type": "subslide"
    }
   },
   "outputs": [],
   "source": [
    "%%bash\n",
    "# Add files to staging environment\n",
    "git add myscript.py"
   ]
  },
  {
   "cell_type": "code",
   "execution_count": null,
   "metadata": {
    "slideshow": {
     "slide_type": "skip"
    }
   },
   "outputs": [],
   "source": [
    "%%bash\n",
    "# Add all unstaged files to the staging environment\n",
    "git add --all"
   ]
  },
  {
   "cell_type": "markdown",
   "metadata": {
    "slideshow": {
     "slide_type": "skip"
    }
   },
   "source": [
    "__Ignore particular files using .gitignore__\n",
    "\n",
    "gitignore file is a plain text file where each line contains a pattern for files/directories to ignore. Generally, this is placed in the root folder of the repository, and that's what I recommend.\n",
    "\n",
    "[Read more](https://www.pluralsight.com/guides/how-to-use-gitignore-file)"
   ]
  },
  {
   "cell_type": "code",
   "execution_count": 8,
   "metadata": {
    "slideshow": {
     "slide_type": "fragment"
    }
   },
   "outputs": [
    {
     "name": "stdout",
     "output_type": "stream",
     "text": [
      "On branch master\n",
      "\n",
      "No commits yet\n",
      "\n",
      "Changes to be committed:\n",
      "  (use \"git rm --cached <file>...\" to unstage)\n",
      "\n",
      "\tnew file:   myscript.py\n",
      "\n",
      "Untracked files:\n",
      "  (use \"git add <file>...\" to include in what will be committed)\n",
      "\n",
      "\t.idea/\n",
      "\t.ipynb_checkpoints/\n",
      "\tREADME.txt\n",
      "\timg/\n",
      "\tmain.py\n",
      "\tmaster-git-github-slides-v2.ipynb\n",
      "\tmaster-git-github-slides.ipynb\n",
      "\tmaster-git-github-slides.slides.html\n",
      "\tmaster_git_github.ipynb\n",
      "\tnotes.md\n",
      "\n"
     ]
    }
   ],
   "source": [
    "%%bash\n",
    "git status"
   ]
  },
  {
   "cell_type": "markdown",
   "metadata": {
    "slideshow": {
     "slide_type": "subslide"
    }
   },
   "source": [
    "__2. First commit__"
   ]
  },
  {
   "cell_type": "markdown",
   "metadata": {
    "slideshow": {
     "slide_type": "fragment"
    }
   },
   "source": [
    "The git commit command captures a snapshot of the project's currently staged changes."
   ]
  },
  {
   "cell_type": "code",
   "execution_count": 9,
   "metadata": {
    "slideshow": {
     "slide_type": "subslide"
    }
   },
   "outputs": [
    {
     "name": "stdout",
     "output_type": "stream",
     "text": [
      "[master (root-commit) 8585263] docs: add myscript.py\n",
      " 1 file changed, 12 insertions(+)\n",
      " create mode 100644 myscript.py\n"
     ]
    }
   ],
   "source": [
    "%%bash\n",
    "git commit -m \"docs: add myscript.py\""
   ]
  },
  {
   "cell_type": "markdown",
   "metadata": {
    "slideshow": {
     "slide_type": "subslide"
    }
   },
   "source": [
    "__3. Understand branch__"
   ]
  },
  {
   "cell_type": "markdown",
   "metadata": {
    "slideshow": {
     "slide_type": "fragment"
    }
   },
   "source": [
    "A branch represents an independent line of development."
   ]
  },
  {
   "cell_type": "code",
   "execution_count": 10,
   "metadata": {
    "slideshow": {
     "slide_type": "subslide"
    }
   },
   "outputs": [
    {
     "name": "stderr",
     "output_type": "stream",
     "text": [
      "Switched to a new branch 'test'\n"
     ]
    }
   ],
   "source": [
    "%%bash\n",
    "# Create new branch and set as current branch to work with\n",
    "git checkout -b test"
   ]
  },
  {
   "cell_type": "markdown",
   "metadata": {
    "slideshow": {
     "slide_type": "fragment"
    }
   },
   "source": [
    "```\n",
    "    D---E---F master\n",
    "    \n",
    "          ||\n",
    "          \\/\n",
    " \n",
    "\t         A test\n",
    "\t        /\n",
    "    D---E---F master\n",
    "```"
   ]
  },
  {
   "cell_type": "code",
   "execution_count": 11,
   "metadata": {
    "slideshow": {
     "slide_type": "subslide"
    }
   },
   "outputs": [
    {
     "name": "stdout",
     "output_type": "stream",
     "text": [
      "  master\n",
      "* test\n"
     ]
    }
   ],
   "source": [
    "%%bash\n",
    "# Check the list of branches and current branch\n",
    "git branch"
   ]
  },
  {
   "cell_type": "code",
   "execution_count": 13,
   "metadata": {
    "slideshow": {
     "slide_type": "fragment"
    }
   },
   "outputs": [
    {
     "name": "stdout",
     "output_type": "stream",
     "text": [
      "[test 7d990a4] test: print hello world\n",
      " 1 file changed, 3 insertions(+)\n"
     ]
    }
   ],
   "source": [
    "%%bash\n",
    "git add 'myscript.py'\n",
    "git commit -m 'test: print hello world'"
   ]
  },
  {
   "cell_type": "markdown",
   "metadata": {
    "slideshow": {
     "slide_type": "subslide"
    }
   },
   "source": [
    "__4. Branch manipulation__"
   ]
  },
  {
   "cell_type": "code",
   "execution_count": 15,
   "metadata": {
    "slideshow": {
     "slide_type": "subslide"
    }
   },
   "outputs": [
    {
     "name": "stdout",
     "output_type": "stream",
     "text": [
      "Already up to date.\n"
     ]
    }
   ],
   "source": [
    "%%bash\n",
    "# Merge branches\n",
    "git merge master"
   ]
  },
  {
   "cell_type": "markdown",
   "metadata": {
    "slideshow": {
     "slide_type": "subslide"
    }
   },
   "source": [
    "```\n",
    "\n",
    "\t         A---B---C test\n",
    "\t        /\n",
    "    D---E---F---G---H---I master\n",
    "```"
   ]
  },
  {
   "cell_type": "markdown",
   "metadata": {
    "slideshow": {
     "slide_type": "fragment"
    }
   },
   "source": [
    "```\n",
    "          ||\n",
    "          \\/\n",
    "\n",
    "             A---B---C test\n",
    "\t        /         \\\n",
    "    D---E---F---G---H--I master\n",
    "```"
   ]
  },
  {
   "cell_type": "markdown",
   "metadata": {
    "slideshow": {
     "slide_type": "slide"
    }
   },
   "source": [
    "## GitHub for hosting and sharing repositories"
   ]
  },
  {
   "cell_type": "markdown",
   "metadata": {},
   "source": [
    "1. Host local repository on GitHub\n",
    "2. Fork a repository and clone locally\n",
    "3. Track the original repository\n",
    "4. Contribute to repositories"
   ]
  },
  {
   "cell_type": "markdown",
   "metadata": {
    "slideshow": {
     "slide_type": "subslide"
    }
   },
   "source": [
    "__1. Host local repository on GitHub__"
   ]
  },
  {
   "cell_type": "markdown",
   "metadata": {
    "slideshow": {
     "slide_type": "fragment"
    }
   },
   "source": [
    "* Create a new repository on [GitHub](https://github.com/YanCheng-go)"
   ]
  },
  {
   "cell_type": "markdown",
   "metadata": {
    "slideshow": {
     "slide_type": "fragment"
    }
   },
   "source": [
    "* Push local repository to GitHub"
   ]
  },
  {
   "cell_type": "code",
   "execution_count": 10,
   "metadata": {
    "slideshow": {
     "slide_type": "subslide"
    }
   },
   "outputs": [],
   "source": [
    "%%bash\n",
    "# GitHub credentials\n",
    "git config user.name \"your username\"\n",
    "git config user.password \"your password\""
   ]
  },
  {
   "cell_type": "code",
   "execution_count": null,
   "metadata": {
    "slideshow": {
     "slide_type": "fragment"
    }
   },
   "outputs": [],
   "source": [
    "%%bash\n",
    "# Add remote path for hosting git repository\n",
    "git remote add origin https://github.com/YanCheng-go/master-git-github-temp.git"
   ]
  },
  {
   "cell_type": "code",
   "execution_count": null,
   "metadata": {
    "slideshow": {
     "slide_type": "fragment"
    }
   },
   "outputs": [],
   "source": [
    "%%bash\n",
    "# Push local repository content to a remote repository\n",
    "git push -u origin master"
   ]
  },
  {
   "cell_type": "markdown",
   "metadata": {
    "slideshow": {
     "slide_type": "subslide"
    }
   },
   "source": [
    "__2. Fork a repository and clone locally__"
   ]
  },
  {
   "cell_type": "code",
   "execution_count": null,
   "metadata": {
    "slideshow": {
     "slide_type": "fragment"
    }
   },
   "outputs": [],
   "source": [
    "%%bash\n",
    "# Specify work directory \n",
    "cd <directory to put the local clone>\n",
    "# Create a local clone\n",
    "git clone https://github.com/<ORIGINAL_OWNER>/<ORIGINAL_REPOSITORY>.git"
   ]
  },
  {
   "cell_type": "markdown",
   "metadata": {
    "slideshow": {
     "slide_type": "subslide"
    }
   },
   "source": [
    "__3. Track the original repository__"
   ]
  },
  {
   "cell_type": "code",
   "execution_count": null,
   "metadata": {
    "slideshow": {
     "slide_type": "fragment"
    }
   },
   "outputs": [],
   "source": [
    "%%bash\n",
    "# Configure the upstream\n",
    "cd <directory of the local clone>\n",
    "git remote add --track master upstream https://github.com/<ORIGINAL_OWNER>/<ORIGINAL_REPOSITORY>.git\n",
    "\n",
    "# Sync the repository\n",
    "git fetch upstream\n",
    "\n",
    "# Merge changes from upstream into local default branch\n",
    "git checkout <local default branch name>\n",
    "git merge <upstream default branch name>"
   ]
  },
  {
   "cell_type": "markdown",
   "metadata": {
    "slideshow": {
     "slide_type": "subslide"
    }
   },
   "source": [
    "__4. Contribute to repositories__"
   ]
  },
  {
   "cell_type": "markdown",
   "metadata": {
    "slideshow": {
     "slide_type": "fragment"
    }
   },
   "source": [
    "__GitHub Flow__\n",
    "![github-flow](img/github-flow.png)"
   ]
  },
  {
   "cell_type": "code",
   "execution_count": null,
   "metadata": {
    "slideshow": {
     "slide_type": "subslide"
    }
   },
   "outputs": [],
   "source": [
    "%%bash\n",
    "# Create a new branch for your changes\n",
    "git checkout -b <branch name> upstream/master\n",
    "\n",
    "# Add, commit, and push a change\n",
    "git add .\n",
    "git commit -m \"commit message\"\n",
    "git push -u origin <branch name>"
   ]
  },
  {
   "cell_type": "markdown",
   "metadata": {
    "id": "J3jzbfX_cSht",
    "slideshow": {
     "slide_type": "slide"
    }
   },
   "source": [
    "## Get the most out of GitHub"
   ]
  },
  {
   "cell_type": "markdown",
   "metadata": {
    "slideshow": {
     "slide_type": "fragment"
    }
   },
   "source": [
    "1. Plan and manage projects\n",
    "2. Collaborate with teams \n",
    "3. Communicate with end-users \n",
    "4. Follow up popular projects\n",
    "5. Contribute to open sources\n",
    "6. Shout out about YOUR+ on GitHub Pages  \n",
    "7. GitHub Enterprise"
   ]
  },
  {
   "cell_type": "markdown",
   "metadata": {
    "slideshow": {
     "slide_type": "skip"
    }
   },
   "source": [
    "### Collaborate \n",
    "1. Manage your work with issue, pull request, and projects \n",
    "Issues - more than just a place to report bugs\n",
    "\n",
    "2. Setting guidelines for repository contributors\n",
    "https://docs.github.com/en/github/building-a-strong-community/setting-guidelines-for-repository-contributors\n",
    "\n",
    "3. Project board\n",
    "pecific feature work, comprehensive roadmaps, or even release checklists.\n"
   ]
  },
  {
   "cell_type": "markdown",
   "metadata": {
    "id": "WYZ3zgPKf6eX",
    "slideshow": {
     "slide_type": "slide"
    }
   },
   "source": [
    "## Colab and GitHub"
   ]
  },
  {
   "cell_type": "markdown",
   "metadata": {
    "ExecuteTime": {
     "end_time": "2021-02-03T02:22:10.904036Z",
     "start_time": "2021-02-03T02:22:10.896058Z"
    },
    "slideshow": {
     "slide_type": "fragment"
    }
   },
   "source": [
    "1. GitHub hosts projects (scripts + dataset)\n",
    "2. Colab Notebooks show case core functions"
   ]
  },
  {
   "cell_type": "markdown",
   "metadata": {
    "slideshow": {
     "slide_type": "subslide"
    }
   },
   "source": [
    "![image-placeholder](image.png)"
   ]
  },
  {
   "cell_type": "markdown",
   "metadata": {
    "slideshow": {
     "slide_type": "subslide"
    }
   },
   "source": [
    "3. Import scripts to Colab\n",
    "    * local \n",
    "    * Google Drive\n",
    "    * GitHub"
   ]
  },
  {
   "cell_type": "code",
   "execution_count": null,
   "metadata": {
    "slideshow": {
     "slide_type": "subslide"
    }
   },
   "outputs": [],
   "source": [
    "# Load local files \n",
    "from google.colab import files\n",
    "src = list(files.upload().values())[0]\n",
    "\n",
    "open('mylib.py','wb').write(src)\n",
    "\n",
    "import python-scripts"
   ]
  },
  {
   "cell_type": "code",
   "execution_count": null,
   "metadata": {
    "slideshow": {
     "slide_type": "subslide"
    }
   },
   "outputs": [],
   "source": [
    "# Mount Google Drive\n",
    "from google.colab import drive\n",
    "drive.mount('/content/gdrive')\n",
    "\n",
    "import sys\n",
    "sys.path.append('/content/gdrive/my-python-directory')\n",
    "\n",
    "import python-scripts"
   ]
  },
  {
   "cell_type": "code",
   "execution_count": null,
   "metadata": {
    "slideshow": {
     "slide_type": "fragment"
    }
   },
   "outputs": [],
   "source": [
    "# Connect to GitHub repositories\n",
    "! git clone https://github.com/YanCheng-go/master-git-github.git\n",
    "\n",
    "import sys \n",
    "sys.path.insert(0,'/content/github-repo')\n",
    "\n",
    "import python-scripts"
   ]
  },
  {
   "cell_type": "markdown",
   "metadata": {
    "id": "fRl5l8_GuFaI",
    "slideshow": {
     "slide_type": "slide"
    }
   },
   "source": [
    "## Resources"
   ]
  },
  {
   "cell_type": "markdown",
   "metadata": {
    "id": "OOcyVcsXuFO6",
    "slideshow": {
     "slide_type": "-"
    }
   },
   "source": [
    "* [Git and GitHub tutorial for beginners](https://product.hubspot.com/blog/git-and-github-tutorial-for-beginners)\n",
    "* [One of the best interactive tutorial to understand git](https://learngitbranching.js.org/)\n",
    "* [Semantic commit messages](https://gist.github.com/joshbuchea/6f47e86d2510bce28f8e7f42ae84c716)\n",
    "* [GitHub documentation](https://docs.github.com/en)\n",
    "* [Git documentation](https://git-scm.com/about)\n",
    "* [Fork and pull request](https://jarv.is/notes/how-to-pull-request-fork-github/)\n",
    "* [Git cheat sheet](https://training.github.com/downloads/github-git-cheat-sheet.pdf)\n",
    "* [Understanding GitHub flow](https://guides.github.com/introduction/flow/)"
   ]
  },
  {
   "cell_type": "markdown",
   "metadata": {
    "slideshow": {
     "slide_type": "slide"
    }
   },
   "source": [
    "__Review__\n",
    "1. Basics of Git and GitHub \n",
    "2. Set up environment on your local machine\n",
    "3. Git for version control\n",
    "4. Host local projects on GitHub\n",
    "5. Project management and collaborate on GitHub\n",
    "6. Showcase GitHub projects on Colab\n",
    "7. Extra resources for learning Git and GitHub"
   ]
  }
 ],
 "metadata": {
  "celltoolbar": "Slideshow",
  "colab": {
   "authorship_tag": "ABX9TyPCCTceYqh7e0sKmKRxQ9nf",
   "collapsed_sections": [],
   "include_colab_link": true,
   "mount_file_id": "https://github.com/YanCheng-go/master-git-github/blob/master/master_git_github.ipynb",
   "name": "master-git-github.ipynb",
   "provenance": [],
   "toc_visible": true
  },
  "hide_input": false,
  "kernelspec": {
   "display_name": "Python 3",
   "language": "python",
   "name": "python3"
  },
  "language_info": {
   "codemirror_mode": {
    "name": "ipython",
    "version": 3
   },
   "file_extension": ".py",
   "mimetype": "text/x-python",
   "name": "python",
   "nbconvert_exporter": "python",
   "pygments_lexer": "ipython3",
   "version": "3.7.3"
  },
  "toc": {
   "base_numbering": 1,
   "nav_menu": {},
   "number_sections": false,
   "sideBar": true,
   "skip_h1_title": false,
   "title_cell": "Table of Contents",
   "title_sidebar": "Contents",
   "toc_cell": false,
   "toc_position": {},
   "toc_section_display": true,
   "toc_window_display": false
  },
  "varInspector": {
   "cols": {
    "lenName": 16,
    "lenType": 16,
    "lenVar": 40
   },
   "kernels_config": {
    "python": {
     "delete_cmd_postfix": "",
     "delete_cmd_prefix": "del ",
     "library": "var_list.py",
     "varRefreshCmd": "print(var_dic_list())"
    },
    "r": {
     "delete_cmd_postfix": ") ",
     "delete_cmd_prefix": "rm(",
     "library": "var_list.r",
     "varRefreshCmd": "cat(var_dic_list()) "
    }
   },
   "types_to_exclude": [
    "module",
    "function",
    "builtin_function_or_method",
    "instance",
    "_Feature"
   ],
   "window_display": false
  }
 },
 "nbformat": 4,
 "nbformat_minor": 1
}
